{
 "cells": [
  {
   "cell_type": "code",
   "execution_count": 4,
   "id": "f467585d",
   "metadata": {},
   "outputs": [],
   "source": [
    "#!/usr/bin/env python\n",
    "# coding: utf-8\n",
    "\n",
    "# Dataset is about bike rental service. It contains bike sharing counts aggregated on hourly basis. Total number of records: 17379 hours (2 years of rental services). There are following features:\n",
    "# - instant: record index\n",
    "# - dteday : date of record\n",
    "# - hr : hour (0 to 23) of record\n",
    "# - season : season (1:springer, 2:summer, 3:fall, 4:winter)\n",
    "# - yr : year (0: 2011, 1:2012)\n",
    "# - mnth : month ( 1 to 12)\n",
    "# - holiday : whether day is holiday or not (extracted from http://dchr.dc.gov/page/holiday-schedule)\n",
    "# - weekday : day of the week\n",
    "# - workingday : if day is neither weekend nor holiday is 1, otherwise is 0.\n",
    "# + weathersit : weather situation in the current timeframe\n",
    "#     - 1: Clear, Few clouds, Partly cloudy, Partly cloudy\n",
    "#     - 2: Mist + Cloudy, Mist + Broken clouds, Mist + Few clouds, Mist\n",
    "#     - 3: Light Snow, Light Rain + Thunderstorm + Scattered clouds, Light Rain + Scattered clouds\n",
    "#     - 4: Heavy Rain + Ice Pallets + Thunderstorm + Mist, Snow + Fog\n",
    "# - temp : Normalized temperature in Celsius. The values are divided to 41 (max)\n",
    "# - atemp: Normalized feeling temperature in Celsius. The values are divided to 50 (max)\n",
    "# - hum: Normalized humidity. The values are divided to 100 (max)\n",
    "# - windspeed: Normalized wind speed. The values are divided to 67 (max)\n",
    "# - casual: count of casual users (target 1)\n",
    "# - registered: count of registered users (target 2)\n",
    "# - cnt: count of total rental bikes including both casual and registered (target total)\n",
    "\n",
    "import pandas as pd\n",
    "import numpy as np\n",
    "import matplotlib.pyplot as plt\n",
    "import seaborn as sns\n",
    "import warnings\n",
    "warnings.filterwarnings('ignore')\n",
    "from sklearn.model_selection import train_test_split, GridSearchCV\n",
    "from sklearn.preprocessing import StandardScaler\n",
    "from sklearn.tree import DecisionTreeRegressor\n",
    "from sklearn.neighbors import KNeighborsRegressor\n",
    "from sklearn.ensemble import RandomForestRegressor\n",
    "from xgboost import XGBRegressor\n",
    "from lightgbm import LGBMRegressor\n",
    "from sklearn.metrics import r2_score\n",
    "from sklearn.metrics import mean_squared_error, mean_absolute_error\n",
    "import mlflow\n",
    "\n",
    "mlflow.set_tracking_uri(\"http://mlflow:5000\")"
   ]
  },
  {
   "cell_type": "code",
   "execution_count": null,
   "id": "e77a1c21",
   "metadata": {},
   "outputs": [],
   "source": [
    "df = pd.read_csv('hour.csv')\n",
    "\n",
    "df = df.drop(columns=['instant'])\n",
    "\n",
    "df[\"dteday\"] =  pd.to_datetime(df[\"dteday\"]).dt.day\n",
    "\n",
    "# From Time column we can take only Hour value\n",
    "df.rename(columns={\"dteday\": \"day\"}, inplace=True)\n",
    "\n",
    "# dropping corelated columns\n",
    "df = df.drop(columns=['season'])\n",
    "\n",
    "# dropping values with humidity = 0\n",
    "df = df[df['hum'] > 0.1]"
   ]
  },
  {
   "cell_type": "code",
   "execution_count": null,
   "id": "2107ef56",
   "metadata": {},
   "outputs": [],
   "source": [
    "#train/test split\n",
    "X_train, X_test, y_train, y_test = train_test_split(\n",
    "    df.drop(labels=['casual', 'registered', 'cnt'], axis=1), #dropping target and highly correlated features\n",
    "    df['cnt'],\n",
    "    test_size=0.3,\n",
    "    random_state=0)\n",
    "print('train shape:', X_train.shape)\n",
    "print('test shape:', X_test.shape)\n"
   ]
  },
  {
   "cell_type": "code",
   "execution_count": null,
   "id": "48fc256a",
   "metadata": {},
   "outputs": [],
   "source": [
    "# scaling\n",
    "scaler = StandardScaler()\n",
    "X_train_scaled = scaler.fit_transform(X_train)\n",
    "X_test_scaled = scaler.fit_transform(X_test)"
   ]
  },
  {
   "cell_type": "code",
   "execution_count": null,
   "id": "e30b3430",
   "metadata": {},
   "outputs": [],
   "source": [
    "knn = KNeighborsRegressor()\n",
    "dt = DecisionTreeRegressor()\n",
    "rf =  RandomForestRegressor()\n",
    "xgb = XGBRegressor()\n",
    "lgb = LGBMRegressor()\n",
    "        \n",
    "def model_fit(parameters, x_train, x_test, Y_train, Y_test, model_name):\n",
    "\n",
    "    # Start MLFlow run with a unique name for each model\n",
    "    with mlflow.start_run(run_name=model_name):\n",
    "        print(f'######-Model => {model_name}')\n",
    "        model = m()\n",
    "\n",
    "        # Grid search for best parameters\n",
    "        grid = GridSearchCV(model, parameters, cv=5, verbose=1, n_jobs=-1, scoring='neg_mean_absolute_error')\n",
    "        grid.fit(x_train, Y_train)\n",
    "\n",
    "        # Retrain with best parameters\n",
    "        model_ = m(**grid.best_params_)\n",
    "        model_.fit(x_train, Y_train)\n",
    "\n",
    "        y_pred = model_.predict(x_test)\n",
    "        y_pred_train = model_.predict(x_train)\n",
    "\n",
    "        # Log parameters and metrics\n",
    "        mlflow.log_params(grid.best_params_)\n",
    "        mlflow.log_metric(\"MAE_train\", mean_absolute_error(Y_train, y_pred_train))\n",
    "        mlflow.log_metric(\"MSE_train\", mean_squared_error(Y_train, y_pred_train))\n",
    "        mlflow.log_metric(\"RMSE_train\", np.sqrt(mean_squared_error(Y_train, y_pred_train)))\n",
    "        mlflow.log_metric(\"R2_train\", r2_score(Y_train, y_pred_train))\n",
    "\n",
    "        mlflow.log_metric(\"MAE_test\", mean_absolute_error(Y_test, y_pred))\n",
    "        mlflow.log_metric(\"MSE_test\", mean_squared_error(Y_test, y_pred))\n",
    "        mlflow.log_metric(\"RMSE_test\", np.sqrt(mean_squared_error(Y_test, y_pred)))\n",
    "        mlflow.log_metric(\"R2_test\", r2_score(Y_test, y_pred))\n",
    "\n",
    "        # Log the model\n",
    "        mlflow.sklearn.log_model(model_, \"model\")"
   ]
  },
  {
   "cell_type": "code",
   "execution_count": null,
   "id": "e1f9be1e",
   "metadata": {},
   "outputs": [],
   "source": [
    "params_knn = dict(n_neighbors=list(range(3, 20)))\n",
    "\n",
    "params_dt = {\n",
    "           \"max_depth\" : [None,10,20],\n",
    "           \"min_samples_leaf\":[1,2,4],\n",
    "           \"min_weight_fraction_leaf\":[0.0,0.1,0.3,0.6],\n",
    "           \"max_features\":[\"auto\",\"log2\",\"sqrt\"],\n",
    "           \"max_leaf_nodes\":[None,10,20,30,50]}\n",
    "\n",
    "params_rf  = {\n",
    "             'max_depth': [None,10,20],\n",
    "             'max_features': [1, 'sqrt'],\n",
    "             'min_samples_leaf': [1, 2, 4],\n",
    "             'min_samples_split': [2, 5, 10],\n",
    "             'n_estimators': [100, 200]}\n",
    "                  \n",
    "params_xgb  = {\n",
    "             'max_depth': [5, 8 ,10, 12],\n",
    "             'n_estimators': [100, 200, 300, 400, 500],\n",
    "             'learning_rate': [0.4, 0.3, 0.2, 0.1, 0.01],\n",
    "             'min_child_weight': [1, 2],\n",
    "             'subsample': [0.5, 1]}\n",
    "                             \n",
    "params_lgb  = {\n",
    "             'max_depth': [5, 6, 7, 8, 9, 10],\n",
    "             'learning_rate': [0.4, 0.3, 0.2, 0.1, 0.01],\n",
    "             'min_child_weight': [1, 2],\n",
    "             'subsample': [0.5, 1]}"
   ]
  },
  {
   "cell_type": "code",
   "execution_count": null,
   "id": "d70b0d9f",
   "metadata": {},
   "outputs": [],
   "source": [
    "models = [KNeighborsRegressor, DecisionTreeRegressor, RandomForestRegressor, XGBRegressor, LGBMRegressor]\n",
    "parameters = [params_knn, params_dt, params_rf, params_xgb, params_lgb]"
   ]
  },
  {
   "cell_type": "code",
   "execution_count": null,
   "id": "28965910",
   "metadata": {},
   "outputs": [],
   "source": [
    "for m, p in zip(models, parameters):\n",
    "    model_name = m.__name__  # Use the model class name as the identifier\n",
    "    model_fit(p, X_train_scaled, X_test_scaled, y_train, y_test, model_name)"
   ]
  },
  {
   "cell_type": "code",
   "execution_count": null,
   "id": "cb07a455",
   "metadata": {},
   "outputs": [],
   "source": [
    "best_run = mlflow.search_runs(order_by=[\"metrics.R2_test DESC\"], max_results=1)\n",
    "best_run_id = best_run.iloc[0].run_id\n"
   ]
  },
  {
   "cell_type": "code",
   "execution_count": null,
   "id": "f414b7d7",
   "metadata": {},
   "outputs": [],
   "source": [
    "with mlflow.start_run(run_id=best_run_id):\n",
    "    plt.figure()\n",
    "    plt.scatter(y_test, y_pred)\n",
    "    plt.xlabel(\"True Values\")\n",
    "    plt.ylabel(\"Predictions\")\n",
    "    plt.title(\"Best Model Predictions vs True Values\")\n",
    "    plt.savefig(\"best_model_pred_plot.png\")\n",
    "    mlflow.log_artifact(\"best_model_pred_plot.png\")\n"
   ]
  }
 ],
 "metadata": {
  "kernelspec": {
   "display_name": "Python 3",
   "language": "python",
   "name": "python3"
  },
  "language_info": {
   "codemirror_mode": {
    "name": "ipython",
    "version": 3
   },
   "file_extension": ".py",
   "mimetype": "text/x-python",
   "name": "python",
   "nbconvert_exporter": "python",
   "pygments_lexer": "ipython3",
   "version": "3.10.11"
  }
 },
 "nbformat": 4,
 "nbformat_minor": 5
}
